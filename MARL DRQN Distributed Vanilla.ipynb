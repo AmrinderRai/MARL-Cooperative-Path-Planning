{
 "cells": [
  {
   "cell_type": "code",
   "execution_count": 1,
   "metadata": {},
   "outputs": [],
   "source": [
    "from pcb_envs import MultiPathGridEnv\n",
    "from replay_buffers import PrioritizedReplayBuffer,  DRQN_ReplayBuffer\n",
    "import numpy as np\n",
    "import torch\n",
    "import matplotlib.pyplot as plt\n",
    "from drqn_agent import DRQNAgent\n",
    "from rl_logger import ResultsLogger\n",
    "#from agent_trainer import QLearner\n",
    "from IPython.display import display, clear_output"
   ]
  },
  {
   "cell_type": "code",
   "execution_count": 2,
   "metadata": {},
   "outputs": [],
   "source": [
    "device = torch.device(\"cuda\" if torch.cuda.is_available() else \"cpu\")"
   ]
  },
  {
   "cell_type": "code",
   "execution_count": 3,
   "metadata": {},
   "outputs": [
    {
     "data": {
      "text/plain": [
       "device(type='cuda')"
      ]
     },
     "execution_count": 3,
     "metadata": {},
     "output_type": "execute_result"
    }
   ],
   "source": [
    "device"
   ]
  },
  {
   "cell_type": "markdown",
   "metadata": {},
   "source": [
    "## Env 1"
   ]
  },
  {
   "cell_type": "code",
   "execution_count": 4,
   "metadata": {},
   "outputs": [],
   "source": [
    "n_agents = 3\n",
    "grid_size = [15,10]\n",
    "obs_size = [7,7]\n",
    "obstacles = [(3,3),(6,2), (6,3), (9,4), (9,3), (10,4), (8,9), (8,8)]\n",
    "starts = [(13,9), (8,5), (6,4)]\n",
    "goals = [(2,4), (4,9), (9,8)] # orig: (2,1) \n",
    "to_train = True   "
   ]
  },
  {
   "cell_type": "code",
   "execution_count": 5,
   "metadata": {},
   "outputs": [],
   "source": [
    "env1 = MultiPathGridEnv(obstacles, starts, goals, grid_size=grid_size, obs_size = [7,7], agents_n=n_agents, train=to_train, in_place=True) "
   ]
  },
  {
   "cell_type": "code",
   "execution_count": 6,
   "metadata": {},
   "outputs": [],
   "source": [
    "state = env1.reset()"
   ]
  },
  {
   "cell_type": "code",
   "execution_count": 7,
   "metadata": {},
   "outputs": [
    {
     "data": {
      "image/png": "[encoded data removed]",
      "text/plain": [
       "<Figure size 1440x720 with 1 Axes>"
      ]
     },
     "metadata": {
      "needs_background": "light"
     },
     "output_type": "display_data"
    }
   ],
   "source": [
    "env1.render()"
   ]
  },
  {
   "cell_type": "code",
   "execution_count": 8,
   "metadata": {},
   "outputs": [
    {
     "data": {
      "text/plain": [
       "[(array([[[  0.,   0.,   0.,   0., -10., -10., -10.],\n",
       "          [  0.,   0.,   0.,   0., -10., -10., -10.],\n",
       "          [  0.,   0.,   0.,   0., -10., -10., -10.],\n",
       "          [  0.,   0.,   0.,  13., -10., -10., -10.],\n",
       "          [  0.,   0.,   0.,   0., -10., -10., -10.],\n",
       "          [-10., -10., -10., -10., -10., -10., -10.],\n",
       "          [-10., -10., -10., -10., -10., -10., -10.]]]),\n",
       "  12.083045973594572),\n",
       " (array([[[  0.,   0.,   0.,   0.,   0.,   0.,   0.],\n",
       "          [  0.,   0.,  33.,   0.,   0.,   0.,   0.],\n",
       "          [  0.,   0.,   0.,   0.,   0.,   0.,   0.],\n",
       "          [  0.,   0., -10.,  23.,   0.,   0.,   0.],\n",
       "          [  0.,   0.,   0.,   0.,   0.,   0.,  36.],\n",
       "          [  0.,   0.,   0.,   0.,   0.,   0.,   0.],\n",
       "          [  0.,   0.,   0.,   0.,   0.,   0.,   0.]]]),\n",
       "  5.656854249492381),\n",
       " (array([[[  0.,   0.,   0.,   0.,   0.,   0.,   0.],\n",
       "          [  0.,   0.,   0.,   0.,   0.,   0.,   0.],\n",
       "          [  0.,   0.,   0.,   0.,   0.,   0.,   0.],\n",
       "          [  0.,   0.,   0.,  33.,   0.,   0.,   0.],\n",
       "          [  0.,   0.,   0.,   0.,   0.,   0.,   0.],\n",
       "          [  0.,   0.,   0., -10.,  23.,   0.,   0.],\n",
       "          [  0.,   0.,   0.,   0.,   0.,   0.,   0.]]]),\n",
       "  5.0)]"
      ]
     },
     "execution_count": 8,
     "metadata": {},
     "output_type": "execute_result"
    }
   ],
   "source": [
    "state"
   ]
  },
  {
   "cell_type": "markdown",
   "metadata": {},
   "source": [
    "# DQN"
   ]
  },
  {
   "cell_type": "code",
   "execution_count": 9,
   "metadata": {},
   "outputs": [],
   "source": [
    "state_dim = grid_size[0]*grid_size[1]\n",
    "action_dim = 8"
   ]
  },
  {
   "cell_type": "markdown",
   "metadata": {},
   "source": [
    "### Training"
   ]
  },
  {
   "cell_type": "code",
   "execution_count": 10,
   "metadata": {},
   "outputs": [],
   "source": [
    "dqn_agents = []\n",
    "for i in range(n_agents):\n",
    "    dqn_agents.append(DRQNAgent(action_dim, DRQN_ReplayBuffer(100), device))"
   ]
  },
  {
   "cell_type": "code",
   "execution_count": 11,
   "metadata": {},
   "outputs": [],
   "source": [
    "reward_sums_list = []\n",
    "epsilon_history = []\n",
    "remainin_on_termination = []"
   ]
  },
  {
   "cell_type": "code",
   "execution_count": 12,
   "metadata": {},
   "outputs": [],
   "source": [
    "def train_agent(agents):\n",
    "    TARGET_UPDATE = 4\n",
    "    N = 50000\n",
    "    max_time_steps = 3000\n",
    "    epsilon = 0.9\n",
    "    decay = 0.9999\n",
    "    min_epsilon = 0.1\n",
    "    agents_set = set(range(0,n_agents))\n",
    "    for episode in range(N):\n",
    "        reward_sum = 0 \n",
    "        state = env1.reset()\n",
    "        epsilon = max(min_epsilon, epsilon*decay)\n",
    "        epsilon_history.append(epsilon)\n",
    "        terminated_indices = []\n",
    "        episode_experience = [[] for agent in agents]\n",
    "        for i in range(max_time_steps):\n",
    "            remaining_agents = agents_set - set(terminated_indices)\n",
    "            chosen_actions = []\n",
    "            for i, a_id in enumerate(remaining_agents):\n",
    "                t_state = (torch.from_numpy(state[i][0]).float().unsqueeze(0).to(device),torch.Tensor([state[i][1]]).to(device))\n",
    "                action = agents[a_id].epsilon_greedy_action(t_state, epsilon)\n",
    "                chosen_actions.append(action)\n",
    "            next_state, reward, terminal = env1.step(chosen_actions, remaining_agents)\n",
    "            for i, a_id in enumerate(remaining_agents):\n",
    "                episode_experience[a_id].append((state[i], next_state[i], [chosen_actions[i]], [np.mean(reward)]))\n",
    "            reward_sum += np.mean(reward) \n",
    "            state = next_state \n",
    "            #env1.render()  \n",
    "            if all(terminal):\n",
    "                clear_output(wait=False)\n",
    "                display('Episode {0} ended with {1} agents remaining'.format(str(episode), remaining_agents))\n",
    "                remainin_on_termination.append(len(remaining_agents))\n",
    "                reward_sums_list.append(reward_sum)\n",
    "                reward_sum = 0\n",
    "                break\n",
    "            else:\n",
    "                terminal = np.array(terminal)\n",
    "                remaining_terminal = np.delete(terminal, terminated_indices)\n",
    "                terminated_indices = terminal.nonzero()[0]\n",
    "                idx_remove = remaining_terminal.nonzero()[0]\n",
    "                if idx_remove.any():\n",
    "                    for idx in sorted(idx_remove, reverse=True): \n",
    "                        del state[idx]\n",
    "                            \n",
    "        for i, agent in enumerate(agents): \n",
    "            agent.memory.add_to_buffer(episode_experience[i])\n",
    "            if episode !=0:\n",
    "                agent.update(2, 20)"
   ]
  },
  {
   "cell_type": "code",
   "execution_count": null,
   "metadata": {
    "scrolled": false
   },
   "outputs": [
    {
     "data": {
      "text/plain": [
       "'Episode 7024 ended with {0, 1, 2} agents remaining'"
      ]
     },
     "metadata": {},
     "output_type": "display_data"
    }
   ],
   "source": [
    "train_agent(dqn_agents)"
   ]
  },
  {
   "cell_type": "code",
   "execution_count": null,
   "metadata": {},
   "outputs": [],
   "source": [
    "dqn_agents[2].memory.buffer"
   ]
  },
  {
   "cell_type": "markdown",
   "metadata": {},
   "source": [
    "## Visualise training "
   ]
  },
  {
   "cell_type": "code",
   "execution_count": null,
   "metadata": {},
   "outputs": [],
   "source": [
    "mse_history = dqn_agents[1].network_loss_history"
   ]
  },
  {
   "cell_type": "code",
   "execution_count": null,
   "metadata": {},
   "outputs": [],
   "source": [
    "results_log = ResultsLogger(reward_sums_list, epsilon_history, mse_history)"
   ]
  },
  {
   "cell_type": "code",
   "execution_count": null,
   "metadata": {},
   "outputs": [],
   "source": [
    "results_log.write_rewards(file_name=\"learning_history.csv\")"
   ]
  },
  {
   "cell_type": "code",
   "execution_count": null,
   "metadata": {},
   "outputs": [],
   "source": [
    "results_log.viz_rewards(cumsum_n=1000)"
   ]
  },
  {
   "cell_type": "code",
   "execution_count": null,
   "metadata": {},
   "outputs": [],
   "source": [
    "results_log.rewards_stats()"
   ]
  },
  {
   "cell_type": "code",
   "execution_count": null,
   "metadata": {},
   "outputs": [],
   "source": [
    "def viz_mse(mse_history, cumsum_n, color):\n",
    "    cumsum_vec = np.cumsum(np.insert(mse_history, 0, 0)) \n",
    "    ma_vec = (cumsum_vec[cumsum_n:] - cumsum_vec[:-cumsum_n]) / cumsum_n \n",
    "    return plt.plot(range(0,len(ma_vec)), ma_vec, color)      "
   ]
  },
  {
   "cell_type": "code",
   "execution_count": null,
   "metadata": {},
   "outputs": [],
   "source": [
    "import matplotlib.patches as mpatches"
   ]
  },
  {
   "cell_type": "code",
   "execution_count": null,
   "metadata": {},
   "outputs": [],
   "source": [
    "colors = ['pink','red','green']\n",
    "plt.figure(figsize=(12,8))\n",
    "for n in range(0,n_agents):\n",
    "    mse_hist = dqn_agents[n].network_loss_history\n",
    "    plot = viz_mse(mse_hist, 1000, colors[n])\n",
    "agent1_label = mpatches.Patch(color='pink', label='Agent 1')\n",
    "agent2_label = mpatches.Patch(color='red', label='Agent 2')\n",
    "agent3_label = mpatches.Patch(color='green', label='Agent 3')\n",
    "plt.legend(handles=[agent1_label, agent2_label, agent3_label])\n",
    "#plt.legend(handles=[red_patch])\n",
    "#plt.legend(handles=[red_patch])\n",
    "plt.show()"
   ]
  },
  {
   "cell_type": "code",
   "execution_count": null,
   "metadata": {},
   "outputs": [],
   "source": []
  },
  {
   "cell_type": "code",
   "execution_count": null,
   "metadata": {},
   "outputs": [],
   "source": []
  },
  {
   "cell_type": "code",
   "execution_count": null,
   "metadata": {},
   "outputs": [],
   "source": [
    "fig, ax1 = plt.subplots()\n",
    "fig.set_figheight(7)\n",
    "fig.set_figwidth(8)\n",
    "cumsum_vec = np.cumsum(np.insert(remainin_on_termination, 0, 0)) \n",
    "ma_vec = (cumsum_vec[1:] - cumsum_vec[:-1]) / 1 # <<-- 100 instead of 5\n",
    "ax1.plot(range(0,len(ma_vec)), ma_vec)"
   ]
  },
  {
   "cell_type": "markdown",
   "metadata": {},
   "source": [
    "## Learnt Policy "
   ]
  },
  {
   "cell_type": "code",
   "execution_count": null,
   "metadata": {},
   "outputs": [],
   "source": [
    "def test_policy(agents):\n",
    "    max_time_steps = 3000\n",
    "    epsilon = 0.9\n",
    "    decay = 0.9999\n",
    "    min_epsilon = 0.1\n",
    "    agents_set = set(range(0,n_agents))\n",
    "    reward_sum = 0\n",
    "    state = env1.reset()\n",
    "    epsilon = max(min_epsilon, epsilon*decay)\n",
    "    epsilon_history.append(epsilon)\n",
    "    terminated_indices = []\n",
    "    for i in range(max_time_steps):\n",
    "        remaining_agents = agents_set - set(terminated_indices)\n",
    "        chosen_actions = []\n",
    "        for i, a_id in enumerate(remaining_agents):\n",
    "            t_state = (torch.from_numpy(state[i][0]).float().unsqueeze(0).to(device),torch.Tensor([state[i][1]]).to(device))\n",
    "            action = agents[a_id].policy_action(t_state)\n",
    "            chosen_actions.append(action)\n",
    "            if type(action) is not list:\n",
    "                action = [action]\n",
    "        next_state, reward, terminal = env1.step(chosen_actions, remaining_agents)\n",
    "        print(\"Reward is: \", reward)\n",
    "        reward_sum += np.mean(reward) # \n",
    "        state = next_state \n",
    "        env1.render()  \n",
    "        if all(terminal):\n",
    "            remainin_on_termination.append(len(remaining_agents))\n",
    "            reward_sums_list.append(reward_sum)\n",
    "            break\n",
    "        else:\n",
    "            terminal = np.array(terminal)\n",
    "            remaining_terminal = np.delete(terminal, terminated_indices)\n",
    "            terminated_indices = terminal.nonzero()[0]\n",
    "            idx_remove = remaining_terminal.nonzero()[0]\n",
    "            if idx_remove.any():\n",
    "                for idx in sorted(idx_remove, reverse=True): \n",
    "                    del state[idx]\n",
    "    print(\"Reward sum is: \", reward_sum)"
   ]
  },
  {
   "cell_type": "code",
   "execution_count": null,
   "metadata": {},
   "outputs": [],
   "source": [
    "test_policy(dqn_agents) "
   ]
  },
  {
   "cell_type": "code",
   "execution_count": null,
   "metadata": {},
   "outputs": [],
   "source": [
    "state"
   ]
  },
  {
   "cell_type": "markdown",
   "metadata": {},
   "source": [
    "## Interpratability test "
   ]
  },
  {
   "cell_type": "code",
   "execution_count": null,
   "metadata": {},
   "outputs": [],
   "source": [
    "env1.reset()\n",
    "env1.step([0], [0])\n",
    "state = env1.step([0], [0])[0][0]\n",
    "t_state = (torch.from_numpy(state[0]).reshape(1,1,obs_size[0],obs_size[1]).float().to(device),torch.Tensor([state[1]]).to(device))"
   ]
  },
  {
   "cell_type": "code",
   "execution_count": null,
   "metadata": {},
   "outputs": [],
   "source": [
    "state"
   ]
  },
  {
   "cell_type": "code",
   "execution_count": null,
   "metadata": {},
   "outputs": [],
   "source": [
    "dqn_agents[0].qnet(t_state)"
   ]
  },
  {
   "cell_type": "code",
   "execution_count": null,
   "metadata": {},
   "outputs": [],
   "source": [
    "env1.render()"
   ]
  },
  {
   "cell_type": "markdown",
   "metadata": {},
   "source": [
    "## Save model parameters "
   ]
  },
  {
   "cell_type": "code",
   "execution_count": null,
   "metadata": {},
   "outputs": [],
   "source": [
    "!ls"
   ]
  },
  {
   "cell_type": "code",
   "execution_count": null,
   "metadata": {},
   "outputs": [],
   "source": [
    "torch.save(dqn_agents[0].qnet.state_dict(), 'models/drqn-dist-agent1.pth')"
   ]
  },
  {
   "cell_type": "code",
   "execution_count": null,
   "metadata": {},
   "outputs": [],
   "source": [
    "torch.save(dqn_agents[1].qnet.state_dict(), 'models/drqn-dist-agent2.pt')"
   ]
  },
  {
   "cell_type": "code",
   "execution_count": null,
   "metadata": {},
   "outputs": [],
   "source": [
    "torch.save(dqn_agents[2].qnet.state_dict(), 'models/drqn-dist-agent3.pt')"
   ]
  },
  {
   "cell_type": "code",
   "execution_count": null,
   "metadata": {},
   "outputs": [],
   "source": []
  }
 ],
 "metadata": {
  "kernelspec": {
   "display_name": "Python 3",
   "language": "python",
   "name": "python3"
  },
  "language_info": {
   "codemirror_mode": {
    "name": "ipython",
    "version": 3
   },
   "file_extension": ".py",
   "mimetype": "text/x-python",
   "name": "python",
   "nbconvert_exporter": "python",
   "pygments_lexer": "ipython3",
   "version": "3.7.3"
  }
 },
 "nbformat": 4,
 "nbformat_minor": 2
}
